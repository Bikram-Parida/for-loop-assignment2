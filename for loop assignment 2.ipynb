{
 "cells": [
  {
   "cell_type": "markdown",
   "id": "179361d9-3306-47cb-81dd-d3c3e889d01f",
   "metadata": {},
   "source": [
    "# Task1:\n",
    "# You have a nested list as below:\n",
    "# indian_employees = [[\"Raj\", \"Patel\"], [\"Priya\", \"Sharma\"],[\"Amit\", \"Kumar\"],[\"Neha\", \"Singh\"]]\n",
    "# your have to create an email address for each employee.\n",
    "# Email address should be there firstname+lastname@gmail.com\n",
    "\n",
    "# Expected output:\n",
    "# RajPatel@gmail.com\n",
    "# PriyaSharma@gmail.com\n",
    "# You have to create email addresses for each employee. "
   ]
  },
  {
   "cell_type": "code",
   "execution_count": 9,
   "id": "70f0cfb8-038d-4d83-acac-476a15233d28",
   "metadata": {},
   "outputs": [
    {
     "name": "stdout",
     "output_type": "stream",
     "text": [
      "RajPatel@gmail.com\n",
      "PriyaSharma@gmail.com\n",
      "AmitKumar@gmail.com\n",
      "NehaSingh@gmail.com\n"
     ]
    }
   ],
   "source": [
    "indian_employees =[[\"Raj\", \"Patel\"], [\"Priya\", \"Sharma\"],[\"Amit\", \"Kumar\"],[\"Neha\", \"Singh\"]]\n",
    "email_address=[]\n",
    "for employees in indian_employees:\n",
    "    first_name = employees[0]\n",
    "    last_name = employees[1]\n",
    "    email = f\"{first_name}{last_name}@gmail.com\"\n",
    "    email_address.append(email)\n",
    "\n",
    "for email in email_address:\n",
    "    print(email)"
   ]
  }
 ],
 "metadata": {
  "kernelspec": {
   "display_name": "Python 3 (ipykernel)",
   "language": "python",
   "name": "python3"
  },
  "language_info": {
   "codemirror_mode": {
    "name": "ipython",
    "version": 3
   },
   "file_extension": ".py",
   "mimetype": "text/x-python",
   "name": "python",
   "nbconvert_exporter": "python",
   "pygments_lexer": "ipython3",
   "version": "3.12.5"
  }
 },
 "nbformat": 4,
 "nbformat_minor": 5
}
